{
 "cells": [
  {
   "cell_type": "code",
   "execution_count": null,
   "id": "8529f5fc",
   "metadata": {},
   "outputs": [
    {
     "name": "stdout",
     "output_type": "stream",
     "text": [
      "✅ Done! Output saved as output_video3.mp4\n"
     ]
    }
   ],
   "source": [
    "import cv2\n",
    "import math\n",
    "from ultralytics import YOLO\n",
    "\n",
    "# Constants\n",
    "FPS = 30  # Use actual FPS of the video if different\n",
    "PIXELS_PER_METER = 10  # Adjust this based on your video\n",
    "model = YOLO(\"yolov8n.pt\")\n",
    "\n",
    "# Load video\n",
    "video_path = \"clip6.mp4\"\n",
    "cap = cv2.VideoCapture(video_path)\n",
    "\n",
    "# Output video writer\n",
    "width = int(cap.get(cv2.CAP_PROP_FRAME_WIDTH))\n",
    "height = int(cap.get(cv2.CAP_PROP_FRAME_HEIGHT))\n",
    "fps = int(cap.get(cv2.CAP_PROP_FPS)) or FPS\n",
    "fourcc = cv2.VideoWriter_fourcc(*'mp4v')\n",
    "out = cv2.VideoWriter(\"output_video6.mp4\", fourcc, fps, (width, height))\n",
    "\n",
    "# Vehicle tracking dictionary {id: (prev_center, speed)}\n",
    "track_data = {}\n",
    "\n",
    "# Vehicle classes of interest\n",
    "vehicle_classes = [\"car\", \"motorcycle\", \"bus\", \"truck\", \"auto\"]\n",
    "vehicle_colors = {\n",
    "    \"car\": (255, 0, 255),\n",
    "    \"motorcycle\": (255, 0, 0),\n",
    "    \"bus\": (0, 0, 255),\n",
    "    \"truck\": (0, 125, 255),\n",
    "    #\"auto\": (255, 125, 0)\n",
    "}\n",
    "\n",
    "def draw_label_with_background(img, text, topleft, color, font_scale=1.0, thickness=2):\n",
    "    font = cv2.FONT_HERSHEY_SIMPLEX\n",
    "    text_size, _ = cv2.getTextSize(text, font, font_scale, thickness)\n",
    "    text_w, text_h = text_size\n",
    "    x, y = topleft\n",
    "\n",
    "    # Draw filled rectangle (label background)\n",
    "    cv2.rectangle(img, (x, y - text_h - 10), (x + text_w+5, y), color, -1)\n",
    "\n",
    "    # Put text over it\n",
    "    cv2.putText(img, text, (x, y - 5), font, font_scale, (255, 255, 255), thickness, lineType=cv2.LINE_AA)\n",
    "\n",
    "def estimate_speed(p1, p2):\n",
    "    dist = math.hypot(p2[0] - p1[0], p2[1] - p1[1])  # Euclidean distance\n",
    "    meters = dist / PIXELS_PER_METER\n",
    "    speed = meters * fps * 3.6  # km/h\n",
    "    return round(speed, 2)\n",
    "\n",
    "frame_count = 0\n",
    "while cap.isOpened():\n",
    "    ret, frame = cap.read()\n",
    "    if not ret:\n",
    "        break\n",
    "    frame_count += 1\n",
    "\n",
    "    # Detect objects\n",
    "    results = model(frame, conf=0.5, verbose=False)[0]\n",
    "\n",
    "    for i, box in enumerate(results.boxes):\n",
    "        cls_id = int(box.cls[0])\n",
    "        class_name = model.names[cls_id]\n",
    "        xyxy = box.xyxy[0].cpu().numpy().astype(int)\n",
    "        x1, y1, x2, y2 = xyxy\n",
    "        center = ((x1 + x2) // 2, (y1 + y2) // 2)\n",
    "\n",
    "        if class_name in vehicle_classes:\n",
    "            color = vehicle_colors.get(class_name, (255, 255, 255))\n",
    "\n",
    "            # Estimate speed using center point tracking\n",
    "            obj_id = f\"{class_name}_{i}\"  # basic ID for simplicity\n",
    "            prev_center = track_data.get(obj_id, (center, 0))[0]\n",
    "            speed = estimate_speed(prev_center, center) if frame_count > 1 else 0\n",
    "            track_data[obj_id] = (center, speed)\n",
    "\n",
    "            # Draw rectangle and label\n",
    "            cv2.rectangle(frame, (x1, y1), (x2, y2), color, 2)\n",
    "            label = f\"{class_name} {speed} km/h\"\n",
    "            draw_label_with_background(frame, label, (x1, y1), color)\n",
    "\n",
    "\n",
    "        elif class_name == \"person\":\n",
    "            person_box = box.xyxy[0]\n",
    "            has_helmet = False\n",
    "\n",
    "            # Check for helmets in the same frame\n",
    "            for other in results.boxes:\n",
    "                other_cls = int(other.cls[0])\n",
    "                other_name = model.names[other_cls]\n",
    "\n",
    "                if other_name == \"helmet\":\n",
    "                    helmet_box = other.xyxy[0]\n",
    "                    iou = (\n",
    "                        max(0, min(person_box[2], helmet_box[2]) - max(person_box[0], helmet_box[0])) *\n",
    "                        max(0, min(person_box[3], helmet_box[3]) - max(person_box[1], helmet_box[1]))\n",
    "                    )\n",
    "                    if iou > 0:\n",
    "                        has_helmet = True\n",
    "                        break\n",
    "\n",
    "            if not has_helmet:\n",
    "                draw_label_with_background(frame, \"no Helmet\", (int(person_box[0]), int(person_box[1])), (0, 0, 255))\n",
    "\n",
    "                cv2.rectangle(frame, (int(person_box[0]), int(person_box[1])),\n",
    "                              (int(person_box[2]), int(person_box[3])), (0, 0, 255), 2)\n",
    "\n",
    "    out.write(frame)\n",
    "    # Optional: show live frame while processing\n",
    "    # cv2.imshow(\"Traffic Detection\", frame)\n",
    "    # if cv2.waitKey(1) & 0xFF == ord('q'):\n",
    "    #     break\n",
    "\n",
    "cap.release()\n",
    "out.release()\n",
    "cv2.destroyAllWindows()\n",
    "print(\"✅ Done! Output saved as output_video3.mp4\")\n"
   ]
  },
  {
   "cell_type": "code",
   "execution_count": 12,
   "id": "a2acb31a",
   "metadata": {},
   "outputs": [
    {
     "name": "stderr",
     "output_type": "stream",
     "text": [
      "2025-04-24 11:10:31.474 WARNING streamlit.runtime.scriptrunner_utils.script_run_context: Thread 'MainThread': missing ScriptRunContext! This warning can be ignored when running in bare mode.\n",
      "2025-04-24 11:10:31.482 WARNING streamlit.runtime.scriptrunner_utils.script_run_context: Thread 'MainThread': missing ScriptRunContext! This warning can be ignored when running in bare mode.\n",
      "2025-04-24 11:10:32.133 \n",
      "  \u001b[33m\u001b[1mWarning:\u001b[0m to view this Streamlit app on a browser, run it with the following\n",
      "  command:\n",
      "\n",
      "    streamlit run C:\\Users\\sneha\\AppData\\Roaming\\Python\\Python312\\site-packages\\ipykernel_launcher.py [ARGUMENTS]\n",
      "2025-04-24 11:10:32.133 Thread 'MainThread': missing ScriptRunContext! This warning can be ignored when running in bare mode.\n"
     ]
    },
    {
     "data": {
      "text/plain": [
       "DeltaGenerator()"
      ]
     },
     "execution_count": 12,
     "metadata": {},
     "output_type": "execute_result"
    }
   ],
   "source": [
    "import streamlit as st\n",
    "x = open('clip1.mp4','rb')\n",
    "vi = x.read()\n",
    "st.video(vi)\n"
   ]
  }
 ],
 "metadata": {
  "kernelspec": {
   "display_name": "Python 3",
   "language": "python",
   "name": "python3"
  },
  "language_info": {
   "codemirror_mode": {
    "name": "ipython",
    "version": 3
   },
   "file_extension": ".py",
   "mimetype": "text/x-python",
   "name": "python",
   "nbconvert_exporter": "python",
   "pygments_lexer": "ipython3",
   "version": "3.12.5"
  }
 },
 "nbformat": 4,
 "nbformat_minor": 5
}
